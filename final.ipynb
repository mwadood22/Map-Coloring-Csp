{
 "cells": [
  {
   "cell_type": "code",
   "execution_count": 16,
   "metadata": {},
   "outputs": [],
   "source": [
    "from util import constraint\n",
    "from sympy import *\n",
    "from IPython.display import display\n",
    "init_printing()\n",
    "%matplotlib inline\n",
    "import copy\n",
    "import matplotlib.pyplot as plt\n",
    "\n",
    "import networkx as nx"
   ]
  },
  {
   "cell_type": "code",
   "execution_count": 17,
   "metadata": {},
   "outputs": [],
   "source": [
    "# Declare symbolic variables for the constraint generators\n",
    "x1, x2, diff = symbols(\"x1, x2, diff\")\n",
    "\n",
    "# Define diffRow and diffDiag constraint generators\n",
    "diffColor = constraint(\"diffColor\", Ne(x1, x2))"
   ]
  },
  {
   "cell_type": "code",
   "execution_count": 18,
   "metadata": {},
   "outputs": [],
   "source": [
    "class MapColoringCSP:\n",
    "    \"\"\"CSP representation of the Map-Coloring problem.\n",
    "    \n",
    "    Parameters:\n",
    "    N: Integer\n",
    "        The number of cities to be represented in the graph for the problem.\n",
    "    colors: Integer\n",
    "        The number of colors available in the domain of every city. Colors are represented by numbers 0,1,2, etc \n",
    "        to make a symbol function for colors. \n",
    "    neg: Dictionary\n",
    "        The neighbours of each city are represented in the dictionary that are used to adding constraints to each\n",
    "        city according to neighbour.\n",
    "    \"\"\"\n",
    "    def __init__(self, N, colors, neg):\n",
    "        # Declare symbolic variables in the CSP constructor\"\n",
    "        _vars = symbols(\"city:\" + str(N))\n",
    "        _domain = set(range(colors))\n",
    "        self.size = N\n",
    "        self.variables = _vars\n",
    "        self.domains = {v: set(_domain) for v in _vars}\n",
    "        self._constraints = {x: set() for x in _vars}\n",
    "\n",
    "        # Add constraints - for each pair of variables xi and xj that are neighbours, create\n",
    "        # a diffColor(xi, xj) instance, and add them\n",
    "        # to the self._constraints dictionary keyed to both xi and xj;\n",
    "        # (i.e., add them to both self._constraints[xi] and self._constraints[xj])\n",
    "        z=0\n",
    "        for i in range(self.size):\n",
    "            for j in neg[i]:\n",
    "                xi = self.variables[i]\n",
    "                xj = self.variables[j]\n",
    "                diffColor_xi_xj = diffColor.subs({x1: xi, x2: xj})\n",
    "                self._constraints[xi].add(diffColor_xi_xj)\n",
    "                self._constraints[xj].add(diffColor_xi_xj)\n",
    "    \n",
    "    @property\n",
    "    def constraints(self):\n",
    "        \"\"\"Read-only list of constraints -- cannot be used for evaluation.\"\"\"\n",
    "        constraints = set()\n",
    "        for _cons in self._constraints.values():\n",
    "            constraints |= _cons\n",
    "        return list(constraints)\n",
    "    \n",
    "    def is_complete(self, assignment):\n",
    "        \"\"\"An assignment is complete if it is consistent, and all constraints\n",
    "        are satisfied. Backtracking search checks consistency of each assignment, \n",
    "        so checking for completeness can be done very efficiently by only checking \n",
    "        if all the cities are presented on the graph.\n",
    "        \n",
    "        Parameters:\n",
    "        assignment: dict(sympy.Symbol: Integer)\n",
    "            An assignment of values to variables that have previously been checked\n",
    "            for consistency with the CSP constraints\n",
    "        \n",
    "        Returns:\n",
    "        True if complete; False otherwise\n",
    "        \"\"\"\n",
    "        return (len(assignment) == self.size)\n",
    "    \n",
    "    def is_consistent(self, var, value, assignment):\n",
    "        \"\"\"Check consistency of a proposed variable assignment.\n",
    "        self._constraints[x] returns a set of constraints that involve variable `x`.\n",
    "        An assignment is consistent unless it causes a constraint to return False \n",
    "        (partial assignments are always consistent).\n",
    "        \n",
    "        Parameters:\n",
    "        var: sympy.Symbol\n",
    "            One of the symbolic variables in the CSP\n",
    "            \n",
    "        value: Numeric\n",
    "            A valid value (i.e., in the domain of) the variable `var` for assignment\n",
    "\n",
    "        assignment: dict(sympy.Symbol: Integer)\n",
    "            A dictionary mapping CSP variables to color assignment of each city\n",
    "            \n",
    "        Returns:\n",
    "        True if consistent; False otherwise\n",
    "        \"\"\"\n",
    "        constraints = self._constraints[var]\n",
    "        assignment_copy = assignment.copy()\n",
    "        assignment_copy[var] = value\n",
    "        for constraint in constraints:\n",
    "            if not(constraint.subs(assignment_copy)):\n",
    "                return False\n",
    "        return True\n",
    "        \n",
    "    def inference(self, var, value):\n",
    "        \"\"\"Perform logical inference based on proposed variable assignment.\n",
    "        Check arc consistency for var when it's assigned with value. \n",
    "        Returns an empty dictionary by default; returning None signals \"failure\".\n",
    "        \n",
    "        Parameters:\n",
    "        var: sympy.Symbol\n",
    "            One of the symbolic variables in the CSP\n",
    "        \n",
    "        value: Integer\n",
    "            A valid value (i.e., in the domain of) the variable `var` for assignment\n",
    "            \n",
    "        Returns:\n",
    "        dict(sympy.Symbol: Integer) or None\n",
    "            A partial set of values mapped to variables in the CSP based on inferred\n",
    "            constraints from previous mappings, or None to indicate failure\n",
    "        \"\"\"        \n",
    "        inferences = {}\n",
    "        # Find all unassigned neighbors of var\n",
    "        neighbors = set([v for v in self.variables if v != var and len(self.domains[v]) != 1])\n",
    "        for neighbor in neighbors:\n",
    "            neighbor_domain = list(self.domains[neighbor])\n",
    "            # Go through all the values of the neighbor's domain, and remove any value that\n",
    "            # is not consistent with the assignment {var:value}\n",
    "            for val in neighbor_domain:\n",
    "                if not self.is_consistent(neighbor, val, {var:value, neighbor:val}):\n",
    "                    self.domains[neighbor].remove(val)\n",
    "            # If the domain is empty, no inference is made and return None\n",
    "            if len(self.domains[neighbor]) == 0:\n",
    "                return None\n",
    "            # If the domain has exactly 1 variable, add it to the inferences\n",
    "            elif len(self.domains[neighbor]) == 1:\n",
    "                inferences[neighbor] = list(self.domains[neighbor])[0]\n",
    "        return inferences\n",
    "    \n",
    "    def show(self, assn, neg):\n",
    "        \"\"\"Display a graph with cities represented as numbers and colors specifies by an assignment\n",
    "        \n",
    "        Parameters:\n",
    "        assn: dict(sympy.Symbol: Integer)\n",
    "            A dictionary mapping CSP variables to color assignment of each city.\n",
    "        neg: dict(Integer: Integer)\n",
    "            A dictionary mapping each city to its neighbours.\n",
    "            \n",
    "            \n",
    "        \"\"\"\n",
    "        MG = nx.DiGraph(neg)\n",
    "\n",
    "        plt.figure(figsize=(8,8))\n",
    "\n",
    "        nodes = MG.nodes()\n",
    "        degree = list(assn.values())\n",
    "        color = [degree[n] for n in nodes]\n",
    "\n",
    "        nx.draw(MG, nodelist=nodes, node_color=color, node_size=1000,\n",
    "                with_labels=True, cmap=plt.cm.coolwarm, arrows=False)\n",
    "        plt.show()"
   ]
  },
  {
   "cell_type": "code",
   "execution_count": 19,
   "metadata": {},
   "outputs": [],
   "source": [
    "def select(csp, assignment):\n",
    "    \"\"\"Choose an unassigned variable in a constraint satisfaction problem \"\"\"\n",
    "    # Implement minimum-remaining-values heuristic, i.e. choosing the variable \n",
    "    # with the fewest \"legal\" values\n",
    "    sorted_variables = sorted(csp.domains.items(), key=lambda x: len(x[1]))\n",
    "    for var_value_pair in sorted_variables:\n",
    "        if var_value_pair[0] not in assignment:\n",
    "            return var_value_pair[0]\n",
    "    return None\n",
    "\n",
    "def order_values(var, assignment, csp):\n",
    "    \"\"\"Select the order of the values in the domain of a variable for checking during search;\n",
    "    the default is lexicographically.\n",
    "    \"\"\"\n",
    "    return csp.domains[var]\n",
    "\n",
    "def backtracking_search(csp):\n",
    "    \"\"\"Helper function used to initiate backtracking search \"\"\"\n",
    "    return backtrack({}, csp)\n",
    "\n",
    "def backtrack(assignment, csp):\n",
    "    \"\"\"Perform backtracking search for a valid assignment to a CSP\n",
    "    \n",
    "    Parameters:\n",
    "    assignment: dict(sympy.Symbol: Integer)\n",
    "        A partial set of values mapped to variables in the CSP\n",
    "        \n",
    "    csp: CSP\n",
    "        A problem encoded as a CSP. Interface should include csp.variables, csp.domains,\n",
    "        csp.inference(), csp.is_consistent(), and csp.is_complete().\n",
    "    \n",
    "    Returns:\n",
    "    dict(sympy.Symbol: Integer) or None\n",
    "        A partial set of values mapped to variables in the CSP, or None to indicate failure\n",
    "    \"\"\"\n",
    "    if csp.is_complete(assignment):\n",
    "        return assignment\n",
    "    var = select(csp, assignment)\n",
    "    \n",
    "    assignment_copy = assignment.copy()\n",
    "    domains_copy = copy.deepcopy(csp.domains)\n",
    "    inferences = {}\n",
    "    \n",
    "    for value in order_values(var, assignment, csp):\n",
    "        if csp.is_consistent(var, value, assignment):\n",
    "            assignment[var] = value\n",
    "            # Update the domain for var with value\n",
    "            csp.domains[var] = {value}\n",
    "            inferences = csp.inference(var, value)\n",
    "            if inferences != None:\n",
    "                for variable in inferences:\n",
    "                    if csp.is_consistent(variable, inferences[variable],assignment):\n",
    "                        assignment[variable] = inferences[variable]\n",
    "                    else: \n",
    "                        inferences = None\n",
    "                        break\n",
    "            if inferences != None: # e.g., {}, {col2: 1, col3: 2}, etc.\n",
    "                result = backtrack(assignment, csp)\n",
    "                if result:\n",
    "                    return result\n",
    "        assignment = assignment_copy.copy()\n",
    "        csp.domains = copy.deepcopy(domains_copy)\n",
    "    return None"
   ]
  },
  {
   "cell_type": "code",
   "execution_count": 20,
   "metadata": {
    "scrolled": false
   },
   "outputs": [
    {
     "name": "stdout",
     "output_type": "stream",
     "text": [
      "CSP problems have variables, each variable has a domain, and the problem has a list of constraints.\n",
      "Showing the variables for the N-Queens CSP:\n"
     ]
    },
    {
     "data": {
      "image/png": "[encoded data removed]",
      "text/latex": [
       "$\\displaystyle \\left( city_{0}, \\  city_{1}, \\  city_{2}, \\  city_{3}, \\  city_{4}, \\  city_{5}\\right)$"
      ],
      "text/plain": [
       "(city₀, city₁, city₂, city₃, city₄, city₅)"
      ]
     },
     "metadata": {},
     "output_type": "display_data"
    },
    {
     "name": "stdout",
     "output_type": "stream",
     "text": [
      "Showing domain for city0:\n"
     ]
    },
    {
     "data": {
      "image/png": "[encoded data removed]",
      "text/latex": [
       "$\\displaystyle \\left\\{0, 1, 2\\right\\}$"
      ],
      "text/plain": [
       "{0, 1, 2}"
      ]
     },
     "metadata": {},
     "output_type": "display_data"
    },
    {
     "name": "stdout",
     "output_type": "stream",
     "text": [
      "And showing the constraints for city0:\n"
     ]
    },
    {
     "data": {
      "image/png": "[encoded data removed]",
      "text/latex": [
       "$\\displaystyle \\left\\{\\operatorname{diffColor}{\\left(city_{0},city_{1} \\right)}, \\operatorname{diffColor}{\\left(city_{2},city_{0} \\right)}\\right\\}$"
      ],
      "text/plain": [
       "{diffColor(city₀, city₁), diffColor(city₂, city₀)}"
      ]
     },
     "metadata": {},
     "output_type": "display_data"
    },
    {
     "name": "stdout",
     "output_type": "stream",
     "text": [
      "Solving Map-Coloring CSP...\n",
      "Elasped time 0.041497199999980694\n"
     ]
    },
    {
     "data": {
      "image/png": "[encoded data removed]",
      "text/plain": [
       "<Figure size 576x576 with 1 Axes>"
      ]
     },
     "metadata": {},
     "output_type": "display_data"
    },
    {
     "name": "stdout",
     "output_type": "stream",
     "text": [
      "Solution found:\n",
      "{city0: 0, city1: 1, city2: 2, city3: 0, city4: 1, city5: 0}\n"
     ]
    }
   ],
   "source": [
    "import timeit\n",
    "colors = 3\n",
    "cities = 6\n",
    "neg = {\n",
    "    0: [1,2],\n",
    "    1: [0,2,3],\n",
    "    2: [0,1,3,4,5],\n",
    "    3: [1,2,4],\n",
    "    4: [2,3,5],\n",
    "    5: [2,4]\n",
    "}\n",
    "csp = MapColoringCSP(cities, colors, neg)\n",
    "var = csp.variables[0]\n",
    "print(\"CSP problems have variables, each variable has a domain, and the problem has a list of constraints.\")\n",
    "print(\"Showing the variables for the N-Queens CSP:\")\n",
    "display(csp.variables)\n",
    "print(\"Showing domain for {}:\".format(var))\n",
    "display(csp.domains[var])\n",
    "print(\"And showing the constraints for {}:\".format(var))\n",
    "display(csp._constraints[var])\n",
    "\n",
    "\n",
    "print(\"Solving Map-Coloring CSP...\")\n",
    "start_time = timeit.default_timer()\n",
    "assn = backtracking_search(csp)\n",
    "elapsed = timeit.default_timer() - start_time\n",
    "print (\"Elasped time\", elapsed)\n",
    "if assn is not None:\n",
    "    csp.show(assn, neg)\n",
    "    print(\"Solution found:\\n{!s}\".format(assn))\n",
    "else:\n",
    "    print(\"No solution found.\")"
   ]
  },
  {
   "cell_type": "code",
   "execution_count": null,
   "metadata": {},
   "outputs": [],
   "source": []
  },
  {
   "cell_type": "code",
   "execution_count": null,
   "metadata": {},
   "outputs": [],
   "source": []
  }
 ],
 "metadata": {
  "kernelspec": {
   "display_name": "Python 3",
   "language": "python",
   "name": "python3"
  },
  "language_info": {
   "codemirror_mode": {
    "name": "ipython",
    "version": 3
   },
   "file_extension": ".py",
   "mimetype": "text/x-python",
   "name": "python",
   "nbconvert_exporter": "python",
   "pygments_lexer": "ipython3",
   "version": "3.8.5"
  }
 },
 "nbformat": 4,
 "nbformat_minor": 4
}
